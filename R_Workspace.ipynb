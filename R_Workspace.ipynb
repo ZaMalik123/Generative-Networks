{
  "nbformat": 4,
  "nbformat_minor": 0,
  "metadata": {
    "colab": {
      "provenance": [],
      "authorship_tag": "ABX9TyP4DvfXlUa/miUJB35nefSB",
      "include_colab_link": true
    },
    "kernelspec": {
      "name": "ir",
      "display_name": "R"
    },
    "language_info": {
      "name": "R"
    }
  },
  "cells": [
    {
      "cell_type": "markdown",
      "metadata": {
        "id": "view-in-github",
        "colab_type": "text"
      },
      "source": [
        "<a href=\"https://colab.research.google.com/github/ZaMalik123/Generative-Networks/blob/main/R_Workspace.ipynb\" target=\"_parent\"><img src=\"https://colab.research.google.com/assets/colab-badge.svg\" alt=\"Open In Colab\"/></a>"
      ]
    },
    {
      "cell_type": "markdown",
      "source": [
        "## R Workspace\n",
        "## Zach Malik\n",
        "This is a Google Colab to set up an R workspace. Use this to help students with homework."
      ],
      "metadata": {
        "id": "exDC4sy4Yf9q"
      }
    },
    {
      "cell_type": "markdown",
      "source": [
        "### Install and Switch runtime to R (Only do once)"
      ],
      "metadata": {
        "id": "V9tqENcTZet0"
      }
    },
    {
      "cell_type": "markdown",
      "source": [
        "Install R"
      ],
      "metadata": {
        "id": "OiC_Qu2rYqVx"
      }
    },
    {
      "cell_type": "code",
      "execution_count": null,
      "metadata": {
        "colab": {
          "base_uri": "https://localhost:8080/",
          "height": 126
        },
        "id": "AKIjEst4YY7Z",
        "outputId": "d51e1ec2-cd77-4254-c408-f79841593cf0"
      },
      "outputs": [
        {
          "output_type": "error",
          "ename": "ERROR",
          "evalue": "Error in parse(text = x, srcfile = src): <text>:2:10: unexpected symbol\n1: # Install R\n2: !apt-get install\n            ^\n",
          "traceback": [
            "Error in parse(text = x, srcfile = src): <text>:2:10: unexpected symbol\n1: # Install R\n2: !apt-get install\n            ^\nTraceback:\n"
          ]
        }
      ],
      "source": [
        "# Install R\n",
        "!apt-get install r-base"
      ]
    },
    {
      "cell_type": "markdown",
      "source": [
        "Change to R kernel."
      ],
      "metadata": {
        "id": "wNvDv18vYw1M"
      }
    },
    {
      "cell_type": "code",
      "source": [
        "# Install R essentials\n",
        "!Rscript -e \"install.packages('IRkernel'); IRkernel::installspec()\"\n"
      ],
      "metadata": {
        "colab": {
          "base_uri": "https://localhost:8080/"
        },
        "id": "NwN_1BspYq89",
        "outputId": "2cb7d5b4-c67f-4400-d9e5-1dce115d83b4"
      },
      "execution_count": null,
      "outputs": [
        {
          "output_type": "stream",
          "name": "stdout",
          "text": [
            "Installing package into ‘/usr/local/lib/R/site-library’\n",
            "(as ‘lib’ is unspecified)\n",
            "trying URL 'https://cran.rstudio.com/src/contrib/IRkernel_1.3.2.tar.gz'\n",
            "Content type 'application/x-gzip' length 45172 bytes (44 KB)\n",
            "==================================================\n",
            "downloaded 44 KB\n",
            "\n",
            "* installing *source* package ‘IRkernel’ ...\n",
            "** package ‘IRkernel’ successfully unpacked and MD5 sums checked\n",
            "** using staged installation\n",
            "** R\n",
            "** inst\n",
            "** byte-compile and prepare package for lazy loading\n",
            "** help\n",
            "*** installing help indices\n",
            "** building package indices\n",
            "** testing if installed package can be loaded from temporary location\n",
            "** testing if installed package can be loaded from final location\n",
            "** testing if installed package keeps a record of temporary installation path\n",
            "* DONE (IRkernel)\n",
            "\n",
            "The downloaded source packages are in\n",
            "\t‘/tmp/Rtmp0ytXvt/downloaded_packages’\n",
            "\u001b[?25h\u001b[?25h"
          ]
        }
      ]
    },
    {
      "cell_type": "markdown",
      "source": [
        "Restart the runtime and confirm the switch to R."
      ],
      "metadata": {
        "id": "Ug46ZTNBY29B"
      }
    },
    {
      "cell_type": "code",
      "source": [
        "# Example R command\n",
        "R.version.string\n"
      ],
      "metadata": {
        "colab": {
          "base_uri": "https://localhost:8080/",
          "height": 34
        },
        "id": "5gkAQwADYySU",
        "outputId": "4f0e161f-abef-42aa-d594-2d8528d6761f"
      },
      "execution_count": null,
      "outputs": [
        {
          "output_type": "display_data",
          "data": {
            "text/html": [
              "'R version 4.4.1 (2024-06-14)'"
            ],
            "text/markdown": "'R version 4.4.1 (2024-06-14)'",
            "text/latex": "'R version 4.4.1 (2024-06-14)'",
            "text/plain": [
              "[1] \"R version 4.4.1 (2024-06-14)\""
            ]
          },
          "metadata": {}
        }
      ]
    },
    {
      "cell_type": "markdown",
      "source": [
        "### R coding\n",
        "Do R coding and workplacing here."
      ],
      "metadata": {
        "id": "ZVX0lxKNZpkO"
      }
    },
    {
      "cell_type": "code",
      "source": [
        "install.packages('ggplot2')"
      ],
      "metadata": {
        "colab": {
          "base_uri": "https://localhost:8080/"
        },
        "id": "zxLZtJrJZq6V",
        "outputId": "1bca24f8-e360-4184-d4e4-fafbc41a0f77"
      },
      "execution_count": null,
      "outputs": [
        {
          "output_type": "stream",
          "name": "stderr",
          "text": [
            "Installing package into ‘/usr/local/lib/R/site-library’\n",
            "(as ‘lib’ is unspecified)\n",
            "\n"
          ]
        }
      ]
    },
    {
      "cell_type": "code",
      "source": [
        "coin = c(\"H\",\"T\")"
      ],
      "metadata": {
        "id": "yhDyxZzclYGj"
      },
      "execution_count": null,
      "outputs": []
    },
    {
      "cell_type": "code",
      "source": [
        "n = 500\n",
        "sample(coin, n, replace=TRUE)"
      ],
      "metadata": {
        "colab": {
          "base_uri": "https://localhost:8080/",
          "height": 139
        },
        "id": "-2gL01dkmWHJ",
        "outputId": "e74aaadf-40f6-4ecc-a5a2-5ab87757bb2f"
      },
      "execution_count": null,
      "outputs": [
        {
          "output_type": "display_data",
          "data": {
            "text/html": [
              "<style>\n",
              ".list-inline {list-style: none; margin:0; padding: 0}\n",
              ".list-inline>li {display: inline-block}\n",
              ".list-inline>li:not(:last-child)::after {content: \"\\00b7\"; padding: 0 .5ex}\n",
              "</style>\n",
              "<ol class=list-inline><li>'T'</li><li>'T'</li><li>'T'</li><li>'T'</li><li>'T'</li><li>'T'</li><li>'H'</li><li>'H'</li><li>'T'</li><li>'T'</li><li>'T'</li><li>'T'</li><li>'T'</li><li>'H'</li><li>'T'</li><li>'T'</li><li>'T'</li><li>'H'</li><li>'T'</li><li>'T'</li><li>'T'</li><li>'H'</li><li>'H'</li><li>'T'</li><li>'H'</li><li>'H'</li><li>'T'</li><li>'T'</li><li>'H'</li><li>'H'</li><li>'H'</li><li>'T'</li><li>'T'</li><li>'H'</li><li>'T'</li><li>'H'</li><li>'T'</li><li>'T'</li><li>'H'</li><li>'H'</li><li>'H'</li><li>'H'</li><li>'H'</li><li>'H'</li><li>'T'</li><li>'T'</li><li>'H'</li><li>'T'</li><li>'H'</li><li>'H'</li><li>'T'</li><li>'H'</li><li>'H'</li><li>'H'</li><li>'T'</li><li>'H'</li><li>'T'</li><li>'H'</li><li>'T'</li><li>'T'</li><li>'T'</li><li>'T'</li><li>'H'</li><li>'H'</li><li>'H'</li><li>'T'</li><li>'T'</li><li>'H'</li><li>'H'</li><li>'T'</li><li>'T'</li><li>'H'</li><li>'T'</li><li>'T'</li><li>'H'</li><li>'T'</li><li>'H'</li><li>'H'</li><li>'T'</li><li>'H'</li><li>'H'</li><li>'H'</li><li>'H'</li><li>'H'</li><li>'H'</li><li>'H'</li><li>'H'</li><li>'H'</li><li>'T'</li><li>'H'</li><li>'T'</li><li>'H'</li><li>'H'</li><li>'T'</li><li>'T'</li><li>'H'</li><li>'H'</li><li>'T'</li><li>'H'</li><li>'T'</li><li>'H'</li><li>'H'</li><li>'H'</li><li>'H'</li><li>'T'</li><li>'H'</li><li>'H'</li><li>'T'</li><li>'H'</li><li>'H'</li><li>'T'</li><li>'H'</li><li>'T'</li><li>'H'</li><li>'H'</li><li>'H'</li><li>'H'</li><li>'H'</li><li>'H'</li><li>'H'</li><li>'T'</li><li>'H'</li><li>'T'</li><li>'T'</li><li>'H'</li><li>'T'</li><li>'H'</li><li>'T'</li><li>'T'</li><li>'T'</li><li>'T'</li><li>'H'</li><li>'T'</li><li>'H'</li><li>'H'</li><li>'T'</li><li>'H'</li><li>'H'</li><li>'T'</li><li>'H'</li><li>'H'</li><li>'T'</li><li>'H'</li><li>'T'</li><li>'T'</li><li>'T'</li><li>'T'</li><li>'H'</li><li>'H'</li><li>'H'</li><li>'H'</li><li>'T'</li><li>'H'</li><li>'T'</li><li>'T'</li><li>'T'</li><li>'T'</li><li>'T'</li><li>'H'</li><li>'H'</li><li>'T'</li><li>'T'</li><li>'H'</li><li>'H'</li><li>'T'</li><li>'T'</li><li>'H'</li><li>'H'</li><li>'T'</li><li>'T'</li><li>'T'</li><li>'T'</li><li>'T'</li><li>'H'</li><li>'H'</li><li>'T'</li><li>'T'</li><li>'H'</li><li>'H'</li><li>'T'</li><li>'T'</li><li>'T'</li><li>'H'</li><li>'T'</li><li>'H'</li><li>'H'</li><li>'T'</li><li>'T'</li><li>'T'</li><li>'T'</li><li>'H'</li><li>'H'</li><li>'T'</li><li>'H'</li><li>'H'</li><li>'T'</li><li>'T'</li><li>'T'</li><li>'T'</li><li>'T'</li><li>⋯</li><li>'T'</li><li>'H'</li><li>'T'</li><li>'T'</li><li>'H'</li><li>'T'</li><li>'H'</li><li>'H'</li><li>'T'</li><li>'H'</li><li>'T'</li><li>'T'</li><li>'H'</li><li>'H'</li><li>'H'</li><li>'T'</li><li>'T'</li><li>'T'</li><li>'T'</li><li>'H'</li><li>'T'</li><li>'T'</li><li>'H'</li><li>'T'</li><li>'T'</li><li>'H'</li><li>'T'</li><li>'T'</li><li>'T'</li><li>'H'</li><li>'H'</li><li>'T'</li><li>'T'</li><li>'H'</li><li>'H'</li><li>'T'</li><li>'H'</li><li>'T'</li><li>'H'</li><li>'H'</li><li>'H'</li><li>'T'</li><li>'H'</li><li>'T'</li><li>'H'</li><li>'T'</li><li>'H'</li><li>'H'</li><li>'H'</li><li>'T'</li><li>'T'</li><li>'H'</li><li>'H'</li><li>'H'</li><li>'T'</li><li>'H'</li><li>'H'</li><li>'H'</li><li>'T'</li><li>'T'</li><li>'T'</li><li>'T'</li><li>'H'</li><li>'T'</li><li>'H'</li><li>'T'</li><li>'H'</li><li>'T'</li><li>'T'</li><li>'T'</li><li>'H'</li><li>'H'</li><li>'T'</li><li>'H'</li><li>'T'</li><li>'T'</li><li>'H'</li><li>'H'</li><li>'H'</li><li>'T'</li><li>'H'</li><li>'T'</li><li>'T'</li><li>'T'</li><li>'T'</li><li>'H'</li><li>'T'</li><li>'T'</li><li>'T'</li><li>'H'</li><li>'H'</li><li>'H'</li><li>'H'</li><li>'T'</li><li>'H'</li><li>'H'</li><li>'H'</li><li>'H'</li><li>'H'</li><li>'H'</li><li>'H'</li><li>'T'</li><li>'H'</li><li>'H'</li><li>'T'</li><li>'H'</li><li>'H'</li><li>'T'</li><li>'H'</li><li>'H'</li><li>'H'</li><li>'T'</li><li>'T'</li><li>'H'</li><li>'H'</li><li>'T'</li><li>'H'</li><li>'H'</li><li>'H'</li><li>'H'</li><li>'T'</li><li>'T'</li><li>'T'</li><li>'T'</li><li>'H'</li><li>'T'</li><li>'T'</li><li>'H'</li><li>'H'</li><li>'H'</li><li>'T'</li><li>'H'</li><li>'T'</li><li>'T'</li><li>'T'</li><li>'T'</li><li>'H'</li><li>'T'</li><li>'H'</li><li>'H'</li><li>'T'</li><li>'H'</li><li>'T'</li><li>'T'</li><li>'H'</li><li>'H'</li><li>'H'</li><li>'H'</li><li>'H'</li><li>'H'</li><li>'T'</li><li>'H'</li><li>'H'</li><li>'H'</li><li>'T'</li><li>'T'</li><li>'T'</li><li>'T'</li><li>'T'</li><li>'H'</li><li>'T'</li><li>'T'</li><li>'H'</li><li>'H'</li><li>'H'</li><li>'T'</li><li>'H'</li><li>'T'</li><li>'H'</li><li>'H'</li><li>'H'</li><li>'T'</li><li>'T'</li><li>'H'</li><li>'H'</li><li>'T'</li><li>'H'</li><li>'T'</li><li>'T'</li><li>'T'</li><li>'T'</li><li>'T'</li><li>'T'</li><li>'T'</li><li>'T'</li><li>'H'</li><li>'H'</li><li>'H'</li><li>'H'</li><li>'H'</li><li>'T'</li><li>'T'</li><li>'T'</li><li>'T'</li><li>'T'</li><li>'H'</li><li>'H'</li><li>'T'</li><li>'T'</li><li>'T'</li></ol>\n"
            ],
            "text/markdown": "1. 'T'\n2. 'T'\n3. 'T'\n4. 'T'\n5. 'T'\n6. 'T'\n7. 'H'\n8. 'H'\n9. 'T'\n10. 'T'\n11. 'T'\n12. 'T'\n13. 'T'\n14. 'H'\n15. 'T'\n16. 'T'\n17. 'T'\n18. 'H'\n19. 'T'\n20. 'T'\n21. 'T'\n22. 'H'\n23. 'H'\n24. 'T'\n25. 'H'\n26. 'H'\n27. 'T'\n28. 'T'\n29. 'H'\n30. 'H'\n31. 'H'\n32. 'T'\n33. 'T'\n34. 'H'\n35. 'T'\n36. 'H'\n37. 'T'\n38. 'T'\n39. 'H'\n40. 'H'\n41. 'H'\n42. 'H'\n43. 'H'\n44. 'H'\n45. 'T'\n46. 'T'\n47. 'H'\n48. 'T'\n49. 'H'\n50. 'H'\n51. 'T'\n52. 'H'\n53. 'H'\n54. 'H'\n55. 'T'\n56. 'H'\n57. 'T'\n58. 'H'\n59. 'T'\n60. 'T'\n61. 'T'\n62. 'T'\n63. 'H'\n64. 'H'\n65. 'H'\n66. 'T'\n67. 'T'\n68. 'H'\n69. 'H'\n70. 'T'\n71. 'T'\n72. 'H'\n73. 'T'\n74. 'T'\n75. 'H'\n76. 'T'\n77. 'H'\n78. 'H'\n79. 'T'\n80. 'H'\n81. 'H'\n82. 'H'\n83. 'H'\n84. 'H'\n85. 'H'\n86. 'H'\n87. 'H'\n88. 'H'\n89. 'T'\n90. 'H'\n91. 'T'\n92. 'H'\n93. 'H'\n94. 'T'\n95. 'T'\n96. 'H'\n97. 'H'\n98. 'T'\n99. 'H'\n100. 'T'\n101. 'H'\n102. 'H'\n103. 'H'\n104. 'H'\n105. 'T'\n106. 'H'\n107. 'H'\n108. 'T'\n109. 'H'\n110. 'H'\n111. 'T'\n112. 'H'\n113. 'T'\n114. 'H'\n115. 'H'\n116. 'H'\n117. 'H'\n118. 'H'\n119. 'H'\n120. 'H'\n121. 'T'\n122. 'H'\n123. 'T'\n124. 'T'\n125. 'H'\n126. 'T'\n127. 'H'\n128. 'T'\n129. 'T'\n130. 'T'\n131. 'T'\n132. 'H'\n133. 'T'\n134. 'H'\n135. 'H'\n136. 'T'\n137. 'H'\n138. 'H'\n139. 'T'\n140. 'H'\n141. 'H'\n142. 'T'\n143. 'H'\n144. 'T'\n145. 'T'\n146. 'T'\n147. 'T'\n148. 'H'\n149. 'H'\n150. 'H'\n151. 'H'\n152. 'T'\n153. 'H'\n154. 'T'\n155. 'T'\n156. 'T'\n157. 'T'\n158. 'T'\n159. 'H'\n160. 'H'\n161. 'T'\n162. 'T'\n163. 'H'\n164. 'H'\n165. 'T'\n166. 'T'\n167. 'H'\n168. 'H'\n169. 'T'\n170. 'T'\n171. 'T'\n172. 'T'\n173. 'T'\n174. 'H'\n175. 'H'\n176. 'T'\n177. 'T'\n178. 'H'\n179. 'H'\n180. 'T'\n181. 'T'\n182. 'T'\n183. 'H'\n184. 'T'\n185. 'H'\n186. 'H'\n187. 'T'\n188. 'T'\n189. 'T'\n190. 'T'\n191. 'H'\n192. 'H'\n193. 'T'\n194. 'H'\n195. 'H'\n196. 'T'\n197. 'T'\n198. 'T'\n199. 'T'\n200. 'T'\n201. ⋯\n202. 'T'\n203. 'H'\n204. 'T'\n205. 'T'\n206. 'H'\n207. 'T'\n208. 'H'\n209. 'H'\n210. 'T'\n211. 'H'\n212. 'T'\n213. 'T'\n214. 'H'\n215. 'H'\n216. 'H'\n217. 'T'\n218. 'T'\n219. 'T'\n220. 'T'\n221. 'H'\n222. 'T'\n223. 'T'\n224. 'H'\n225. 'T'\n226. 'T'\n227. 'H'\n228. 'T'\n229. 'T'\n230. 'T'\n231. 'H'\n232. 'H'\n233. 'T'\n234. 'T'\n235. 'H'\n236. 'H'\n237. 'T'\n238. 'H'\n239. 'T'\n240. 'H'\n241. 'H'\n242. 'H'\n243. 'T'\n244. 'H'\n245. 'T'\n246. 'H'\n247. 'T'\n248. 'H'\n249. 'H'\n250. 'H'\n251. 'T'\n252. 'T'\n253. 'H'\n254. 'H'\n255. 'H'\n256. 'T'\n257. 'H'\n258. 'H'\n259. 'H'\n260. 'T'\n261. 'T'\n262. 'T'\n263. 'T'\n264. 'H'\n265. 'T'\n266. 'H'\n267. 'T'\n268. 'H'\n269. 'T'\n270. 'T'\n271. 'T'\n272. 'H'\n273. 'H'\n274. 'T'\n275. 'H'\n276. 'T'\n277. 'T'\n278. 'H'\n279. 'H'\n280. 'H'\n281. 'T'\n282. 'H'\n283. 'T'\n284. 'T'\n285. 'T'\n286. 'T'\n287. 'H'\n288. 'T'\n289. 'T'\n290. 'T'\n291. 'H'\n292. 'H'\n293. 'H'\n294. 'H'\n295. 'T'\n296. 'H'\n297. 'H'\n298. 'H'\n299. 'H'\n300. 'H'\n301. 'H'\n302. 'H'\n303. 'T'\n304. 'H'\n305. 'H'\n306. 'T'\n307. 'H'\n308. 'H'\n309. 'T'\n310. 'H'\n311. 'H'\n312. 'H'\n313. 'T'\n314. 'T'\n315. 'H'\n316. 'H'\n317. 'T'\n318. 'H'\n319. 'H'\n320. 'H'\n321. 'H'\n322. 'T'\n323. 'T'\n324. 'T'\n325. 'T'\n326. 'H'\n327. 'T'\n328. 'T'\n329. 'H'\n330. 'H'\n331. 'H'\n332. 'T'\n333. 'H'\n334. 'T'\n335. 'T'\n336. 'T'\n337. 'T'\n338. 'H'\n339. 'T'\n340. 'H'\n341. 'H'\n342. 'T'\n343. 'H'\n344. 'T'\n345. 'T'\n346. 'H'\n347. 'H'\n348. 'H'\n349. 'H'\n350. 'H'\n351. 'H'\n352. 'T'\n353. 'H'\n354. 'H'\n355. 'H'\n356. 'T'\n357. 'T'\n358. 'T'\n359. 'T'\n360. 'T'\n361. 'H'\n362. 'T'\n363. 'T'\n364. 'H'\n365. 'H'\n366. 'H'\n367. 'T'\n368. 'H'\n369. 'T'\n370. 'H'\n371. 'H'\n372. 'H'\n373. 'T'\n374. 'T'\n375. 'H'\n376. 'H'\n377. 'T'\n378. 'H'\n379. 'T'\n380. 'T'\n381. 'T'\n382. 'T'\n383. 'T'\n384. 'T'\n385. 'T'\n386. 'T'\n387. 'H'\n388. 'H'\n389. 'H'\n390. 'H'\n391. 'H'\n392. 'T'\n393. 'T'\n394. 'T'\n395. 'T'\n396. 'T'\n397. 'H'\n398. 'H'\n399. 'T'\n400. 'T'\n401. 'T'\n\n\n",
            "text/latex": "\\begin{enumerate*}\n\\item 'T'\n\\item 'T'\n\\item 'T'\n\\item 'T'\n\\item 'T'\n\\item 'T'\n\\item 'H'\n\\item 'H'\n\\item 'T'\n\\item 'T'\n\\item 'T'\n\\item 'T'\n\\item 'T'\n\\item 'H'\n\\item 'T'\n\\item 'T'\n\\item 'T'\n\\item 'H'\n\\item 'T'\n\\item 'T'\n\\item 'T'\n\\item 'H'\n\\item 'H'\n\\item 'T'\n\\item 'H'\n\\item 'H'\n\\item 'T'\n\\item 'T'\n\\item 'H'\n\\item 'H'\n\\item 'H'\n\\item 'T'\n\\item 'T'\n\\item 'H'\n\\item 'T'\n\\item 'H'\n\\item 'T'\n\\item 'T'\n\\item 'H'\n\\item 'H'\n\\item 'H'\n\\item 'H'\n\\item 'H'\n\\item 'H'\n\\item 'T'\n\\item 'T'\n\\item 'H'\n\\item 'T'\n\\item 'H'\n\\item 'H'\n\\item 'T'\n\\item 'H'\n\\item 'H'\n\\item 'H'\n\\item 'T'\n\\item 'H'\n\\item 'T'\n\\item 'H'\n\\item 'T'\n\\item 'T'\n\\item 'T'\n\\item 'T'\n\\item 'H'\n\\item 'H'\n\\item 'H'\n\\item 'T'\n\\item 'T'\n\\item 'H'\n\\item 'H'\n\\item 'T'\n\\item 'T'\n\\item 'H'\n\\item 'T'\n\\item 'T'\n\\item 'H'\n\\item 'T'\n\\item 'H'\n\\item 'H'\n\\item 'T'\n\\item 'H'\n\\item 'H'\n\\item 'H'\n\\item 'H'\n\\item 'H'\n\\item 'H'\n\\item 'H'\n\\item 'H'\n\\item 'H'\n\\item 'T'\n\\item 'H'\n\\item 'T'\n\\item 'H'\n\\item 'H'\n\\item 'T'\n\\item 'T'\n\\item 'H'\n\\item 'H'\n\\item 'T'\n\\item 'H'\n\\item 'T'\n\\item 'H'\n\\item 'H'\n\\item 'H'\n\\item 'H'\n\\item 'T'\n\\item 'H'\n\\item 'H'\n\\item 'T'\n\\item 'H'\n\\item 'H'\n\\item 'T'\n\\item 'H'\n\\item 'T'\n\\item 'H'\n\\item 'H'\n\\item 'H'\n\\item 'H'\n\\item 'H'\n\\item 'H'\n\\item 'H'\n\\item 'T'\n\\item 'H'\n\\item 'T'\n\\item 'T'\n\\item 'H'\n\\item 'T'\n\\item 'H'\n\\item 'T'\n\\item 'T'\n\\item 'T'\n\\item 'T'\n\\item 'H'\n\\item 'T'\n\\item 'H'\n\\item 'H'\n\\item 'T'\n\\item 'H'\n\\item 'H'\n\\item 'T'\n\\item 'H'\n\\item 'H'\n\\item 'T'\n\\item 'H'\n\\item 'T'\n\\item 'T'\n\\item 'T'\n\\item 'T'\n\\item 'H'\n\\item 'H'\n\\item 'H'\n\\item 'H'\n\\item 'T'\n\\item 'H'\n\\item 'T'\n\\item 'T'\n\\item 'T'\n\\item 'T'\n\\item 'T'\n\\item 'H'\n\\item 'H'\n\\item 'T'\n\\item 'T'\n\\item 'H'\n\\item 'H'\n\\item 'T'\n\\item 'T'\n\\item 'H'\n\\item 'H'\n\\item 'T'\n\\item 'T'\n\\item 'T'\n\\item 'T'\n\\item 'T'\n\\item 'H'\n\\item 'H'\n\\item 'T'\n\\item 'T'\n\\item 'H'\n\\item 'H'\n\\item 'T'\n\\item 'T'\n\\item 'T'\n\\item 'H'\n\\item 'T'\n\\item 'H'\n\\item 'H'\n\\item 'T'\n\\item 'T'\n\\item 'T'\n\\item 'T'\n\\item 'H'\n\\item 'H'\n\\item 'T'\n\\item 'H'\n\\item 'H'\n\\item 'T'\n\\item 'T'\n\\item 'T'\n\\item 'T'\n\\item 'T'\n\\item ⋯\n\\item 'T'\n\\item 'H'\n\\item 'T'\n\\item 'T'\n\\item 'H'\n\\item 'T'\n\\item 'H'\n\\item 'H'\n\\item 'T'\n\\item 'H'\n\\item 'T'\n\\item 'T'\n\\item 'H'\n\\item 'H'\n\\item 'H'\n\\item 'T'\n\\item 'T'\n\\item 'T'\n\\item 'T'\n\\item 'H'\n\\item 'T'\n\\item 'T'\n\\item 'H'\n\\item 'T'\n\\item 'T'\n\\item 'H'\n\\item 'T'\n\\item 'T'\n\\item 'T'\n\\item 'H'\n\\item 'H'\n\\item 'T'\n\\item 'T'\n\\item 'H'\n\\item 'H'\n\\item 'T'\n\\item 'H'\n\\item 'T'\n\\item 'H'\n\\item 'H'\n\\item 'H'\n\\item 'T'\n\\item 'H'\n\\item 'T'\n\\item 'H'\n\\item 'T'\n\\item 'H'\n\\item 'H'\n\\item 'H'\n\\item 'T'\n\\item 'T'\n\\item 'H'\n\\item 'H'\n\\item 'H'\n\\item 'T'\n\\item 'H'\n\\item 'H'\n\\item 'H'\n\\item 'T'\n\\item 'T'\n\\item 'T'\n\\item 'T'\n\\item 'H'\n\\item 'T'\n\\item 'H'\n\\item 'T'\n\\item 'H'\n\\item 'T'\n\\item 'T'\n\\item 'T'\n\\item 'H'\n\\item 'H'\n\\item 'T'\n\\item 'H'\n\\item 'T'\n\\item 'T'\n\\item 'H'\n\\item 'H'\n\\item 'H'\n\\item 'T'\n\\item 'H'\n\\item 'T'\n\\item 'T'\n\\item 'T'\n\\item 'T'\n\\item 'H'\n\\item 'T'\n\\item 'T'\n\\item 'T'\n\\item 'H'\n\\item 'H'\n\\item 'H'\n\\item 'H'\n\\item 'T'\n\\item 'H'\n\\item 'H'\n\\item 'H'\n\\item 'H'\n\\item 'H'\n\\item 'H'\n\\item 'H'\n\\item 'T'\n\\item 'H'\n\\item 'H'\n\\item 'T'\n\\item 'H'\n\\item 'H'\n\\item 'T'\n\\item 'H'\n\\item 'H'\n\\item 'H'\n\\item 'T'\n\\item 'T'\n\\item 'H'\n\\item 'H'\n\\item 'T'\n\\item 'H'\n\\item 'H'\n\\item 'H'\n\\item 'H'\n\\item 'T'\n\\item 'T'\n\\item 'T'\n\\item 'T'\n\\item 'H'\n\\item 'T'\n\\item 'T'\n\\item 'H'\n\\item 'H'\n\\item 'H'\n\\item 'T'\n\\item 'H'\n\\item 'T'\n\\item 'T'\n\\item 'T'\n\\item 'T'\n\\item 'H'\n\\item 'T'\n\\item 'H'\n\\item 'H'\n\\item 'T'\n\\item 'H'\n\\item 'T'\n\\item 'T'\n\\item 'H'\n\\item 'H'\n\\item 'H'\n\\item 'H'\n\\item 'H'\n\\item 'H'\n\\item 'T'\n\\item 'H'\n\\item 'H'\n\\item 'H'\n\\item 'T'\n\\item 'T'\n\\item 'T'\n\\item 'T'\n\\item 'T'\n\\item 'H'\n\\item 'T'\n\\item 'T'\n\\item 'H'\n\\item 'H'\n\\item 'H'\n\\item 'T'\n\\item 'H'\n\\item 'T'\n\\item 'H'\n\\item 'H'\n\\item 'H'\n\\item 'T'\n\\item 'T'\n\\item 'H'\n\\item 'H'\n\\item 'T'\n\\item 'H'\n\\item 'T'\n\\item 'T'\n\\item 'T'\n\\item 'T'\n\\item 'T'\n\\item 'T'\n\\item 'T'\n\\item 'T'\n\\item 'H'\n\\item 'H'\n\\item 'H'\n\\item 'H'\n\\item 'H'\n\\item 'T'\n\\item 'T'\n\\item 'T'\n\\item 'T'\n\\item 'T'\n\\item 'H'\n\\item 'H'\n\\item 'T'\n\\item 'T'\n\\item 'T'\n\\end{enumerate*}\n",
            "text/plain": [
              "  [1] \"T\" \"T\" \"T\" \"T\" \"T\" \"T\" \"H\" \"H\" \"T\" \"T\" \"T\" \"T\" \"T\" \"H\" \"T\" \"T\" \"T\" \"H\"\n",
              " [19] \"T\" \"T\" \"T\" \"H\" \"H\" \"T\" \"H\" \"H\" \"T\" \"T\" \"H\" \"H\" \"H\" \"T\" \"T\" \"H\" \"T\" \"H\"\n",
              " [37] \"T\" \"T\" \"H\" \"H\" \"H\" \"H\" \"H\" \"H\" \"T\" \"T\" \"H\" \"T\" \"H\" \"H\" \"T\" \"H\" \"H\" \"H\"\n",
              " [55] \"T\" \"H\" \"T\" \"H\" \"T\" \"T\" \"T\" \"T\" \"H\" \"H\" \"H\" \"T\" \"T\" \"H\" \"H\" \"T\" \"T\" \"H\"\n",
              " [73] \"T\" \"T\" \"H\" \"T\" \"H\" \"H\" \"T\" \"H\" \"H\" \"H\" \"H\" \"H\" \"H\" \"H\" \"H\" \"H\" \"T\" \"H\"\n",
              " [91] \"T\" \"H\" \"H\" \"T\" \"T\" \"H\" \"H\" \"T\" \"H\" \"T\" \"H\" \"H\" \"H\" \"H\" \"T\" \"H\" \"H\" \"T\"\n",
              "[109] \"H\" \"H\" \"T\" \"H\" \"T\" \"H\" \"H\" \"H\" \"H\" \"H\" \"H\" \"H\" \"T\" \"H\" \"T\" \"T\" \"H\" \"T\"\n",
              "[127] \"H\" \"T\" \"T\" \"T\" \"T\" \"H\" \"T\" \"H\" \"H\" \"T\" \"H\" \"H\" \"T\" \"H\" \"H\" \"T\" \"H\" \"T\"\n",
              "[145] \"T\" \"T\" \"T\" \"H\" \"H\" \"H\" \"H\" \"T\" \"H\" \"T\" \"T\" \"T\" \"T\" \"T\" \"H\" \"H\" \"T\" \"T\"\n",
              "[163] \"H\" \"H\" \"T\" \"T\" \"H\" \"H\" \"T\" \"T\" \"T\" \"T\" \"T\" \"H\" \"H\" \"T\" \"T\" \"H\" \"H\" \"T\"\n",
              "[181] \"T\" \"T\" \"H\" \"T\" \"H\" \"H\" \"T\" \"T\" \"T\" \"T\" \"H\" \"H\" \"T\" \"H\" \"H\" \"T\" \"T\" \"T\"\n",
              "[199] \"T\" \"T\" \"H\" \"T\" \"T\" \"T\" \"T\" \"H\" \"T\" \"T\" \"T\" \"T\" \"H\" \"T\" \"T\" \"H\" \"T\" \"T\"\n",
              "[217] \"H\" \"T\" \"H\" \"H\" \"H\" \"T\" \"H\" \"H\" \"H\" \"T\" \"T\" \"H\" \"H\" \"T\" \"T\" \"T\" \"T\" \"H\"\n",
              "[235] \"T\" \"H\" \"T\" \"H\" \"T\" \"H\" \"H\" \"T\" \"T\" \"T\" \"T\" \"T\" \"H\" \"T\" \"H\" \"T\" \"T\" \"T\"\n",
              "[253] \"T\" \"T\" \"T\" \"H\" \"H\" \"H\" \"T\" \"T\" \"H\" \"T\" \"H\" \"T\" \"T\" \"T\" \"T\" \"T\" \"T\" \"H\"\n",
              "[271] \"H\" \"H\" \"H\" \"H\" \"T\" \"H\" \"T\" \"T\" \"T\" \"H\" \"H\" \"H\" \"T\" \"T\" \"T\" \"H\" \"H\" \"T\"\n",
              "[289] \"H\" \"H\" \"H\" \"H\" \"H\" \"T\" \"T\" \"T\" \"T\" \"T\" \"T\" \"H\" \"T\" \"H\" \"T\" \"T\" \"H\" \"T\"\n",
              "[307] \"H\" \"H\" \"T\" \"H\" \"T\" \"T\" \"H\" \"H\" \"H\" \"T\" \"T\" \"T\" \"T\" \"H\" \"T\" \"T\" \"H\" \"T\"\n",
              "[325] \"T\" \"H\" \"T\" \"T\" \"T\" \"H\" \"H\" \"T\" \"T\" \"H\" \"H\" \"T\" \"H\" \"T\" \"H\" \"H\" \"H\" \"T\"\n",
              "[343] \"H\" \"T\" \"H\" \"T\" \"H\" \"H\" \"H\" \"T\" \"T\" \"H\" \"H\" \"H\" \"T\" \"H\" \"H\" \"H\" \"T\" \"T\"\n",
              "[361] \"T\" \"T\" \"H\" \"T\" \"H\" \"T\" \"H\" \"T\" \"T\" \"T\" \"H\" \"H\" \"T\" \"H\" \"T\" \"T\" \"H\" \"H\"\n",
              "[379] \"H\" \"T\" \"H\" \"T\" \"T\" \"T\" \"T\" \"H\" \"T\" \"T\" \"T\" \"H\" \"H\" \"H\" \"H\" \"T\" \"H\" \"H\"\n",
              "[397] \"H\" \"H\" \"H\" \"H\" \"H\" \"T\" \"H\" \"H\" \"T\" \"H\" \"H\" \"T\" \"H\" \"H\" \"H\" \"T\" \"T\" \"H\"\n",
              "[415] \"H\" \"T\" \"H\" \"H\" \"H\" \"H\" \"T\" \"T\" \"T\" \"T\" \"H\" \"T\" \"T\" \"H\" \"H\" \"H\" \"T\" \"H\"\n",
              "[433] \"T\" \"T\" \"T\" \"T\" \"H\" \"T\" \"H\" \"H\" \"T\" \"H\" \"T\" \"T\" \"H\" \"H\" \"H\" \"H\" \"H\" \"H\"\n",
              "[451] \"T\" \"H\" \"H\" \"H\" \"T\" \"T\" \"T\" \"T\" \"T\" \"H\" \"T\" \"T\" \"H\" \"H\" \"H\" \"T\" \"H\" \"T\"\n",
              "[469] \"H\" \"H\" \"H\" \"T\" \"T\" \"H\" \"H\" \"T\" \"H\" \"T\" \"T\" \"T\" \"T\" \"T\" \"T\" \"T\" \"T\" \"H\"\n",
              "[487] \"H\" \"H\" \"H\" \"H\" \"T\" \"T\" \"T\" \"T\" \"T\" \"H\" \"H\" \"T\" \"T\" \"T\""
            ]
          },
          "metadata": {}
        }
      ]
    },
    {
      "cell_type": "code",
      "source": [
        "library(\"ggplot2\")\n",
        "\n",
        "flips = sample(coin, n, replace = TRUE)\n",
        "prop = c()\n",
        "heads = 0\n",
        "total = 0\n",
        "\n",
        "for (i in 1:n) {\n",
        "  total = total + 1\n",
        "  if (flips[i] == 'H') {\n",
        "    heads = heads + 1\n",
        "    prop = c(prop, heads/total)\n",
        "  }\n",
        "  else{\n",
        "    prop = c(prop, heads/total)\n",
        "  }\n",
        "}"
      ],
      "metadata": {
        "id": "X06RJEH-mZgd"
      },
      "execution_count": null,
      "outputs": []
    },
    {
      "cell_type": "code",
      "source": [
        "prop_df = data.frame(prop = prop,\n",
        "                      x = c(1:n))"
      ],
      "metadata": {
        "id": "5U2ziRABm4gH"
      },
      "execution_count": null,
      "outputs": []
    },
    {
      "cell_type": "code",
      "source": [
        "prop_df"
      ],
      "metadata": {
        "colab": {
          "base_uri": "https://localhost:8080/",
          "height": 1000
        },
        "id": "wMEPEzwIoAzW",
        "outputId": "0ec4762c-181e-480f-f5b1-a31038ddbf6f"
      },
      "execution_count": null,
      "outputs": [
        {
          "output_type": "display_data",
          "data": {
            "text/html": [
              "<table class=\"dataframe\">\n",
              "<caption>A data.frame: 500 × 2</caption>\n",
              "<thead>\n",
              "\t<tr><th scope=col>prop</th><th scope=col>x</th></tr>\n",
              "\t<tr><th scope=col>&lt;dbl&gt;</th><th scope=col>&lt;int&gt;</th></tr>\n",
              "</thead>\n",
              "<tbody>\n",
              "\t<tr><td>0.0000000</td><td> 1</td></tr>\n",
              "\t<tr><td>0.0000000</td><td> 2</td></tr>\n",
              "\t<tr><td>0.3333333</td><td> 3</td></tr>\n",
              "\t<tr><td>0.2500000</td><td> 4</td></tr>\n",
              "\t<tr><td>0.2000000</td><td> 5</td></tr>\n",
              "\t<tr><td>0.1666667</td><td> 6</td></tr>\n",
              "\t<tr><td>0.1428571</td><td> 7</td></tr>\n",
              "\t<tr><td>0.2500000</td><td> 8</td></tr>\n",
              "\t<tr><td>0.3333333</td><td> 9</td></tr>\n",
              "\t<tr><td>0.4000000</td><td>10</td></tr>\n",
              "\t<tr><td>0.4545455</td><td>11</td></tr>\n",
              "\t<tr><td>0.5000000</td><td>12</td></tr>\n",
              "\t<tr><td>0.5384615</td><td>13</td></tr>\n",
              "\t<tr><td>0.5714286</td><td>14</td></tr>\n",
              "\t<tr><td>0.6000000</td><td>15</td></tr>\n",
              "\t<tr><td>0.5625000</td><td>16</td></tr>\n",
              "\t<tr><td>0.5882353</td><td>17</td></tr>\n",
              "\t<tr><td>0.6111111</td><td>18</td></tr>\n",
              "\t<tr><td>0.6315789</td><td>19</td></tr>\n",
              "\t<tr><td>0.6500000</td><td>20</td></tr>\n",
              "\t<tr><td>0.6190476</td><td>21</td></tr>\n",
              "\t<tr><td>0.6363636</td><td>22</td></tr>\n",
              "\t<tr><td>0.6521739</td><td>23</td></tr>\n",
              "\t<tr><td>0.6666667</td><td>24</td></tr>\n",
              "\t<tr><td>0.6800000</td><td>25</td></tr>\n",
              "\t<tr><td>0.6923077</td><td>26</td></tr>\n",
              "\t<tr><td>0.7037037</td><td>27</td></tr>\n",
              "\t<tr><td>0.7142857</td><td>28</td></tr>\n",
              "\t<tr><td>0.6896552</td><td>29</td></tr>\n",
              "\t<tr><td>0.6666667</td><td>30</td></tr>\n",
              "\t<tr><td>⋮</td><td>⋮</td></tr>\n",
              "\t<tr><td>0.4522293</td><td>471</td></tr>\n",
              "\t<tr><td>0.4533898</td><td>472</td></tr>\n",
              "\t<tr><td>0.4545455</td><td>473</td></tr>\n",
              "\t<tr><td>0.4556962</td><td>474</td></tr>\n",
              "\t<tr><td>0.4547368</td><td>475</td></tr>\n",
              "\t<tr><td>0.4558824</td><td>476</td></tr>\n",
              "\t<tr><td>0.4549266</td><td>477</td></tr>\n",
              "\t<tr><td>0.4560669</td><td>478</td></tr>\n",
              "\t<tr><td>0.4572025</td><td>479</td></tr>\n",
              "\t<tr><td>0.4583333</td><td>480</td></tr>\n",
              "\t<tr><td>0.4594595</td><td>481</td></tr>\n",
              "\t<tr><td>0.4605809</td><td>482</td></tr>\n",
              "\t<tr><td>0.4616977</td><td>483</td></tr>\n",
              "\t<tr><td>0.4607438</td><td>484</td></tr>\n",
              "\t<tr><td>0.4597938</td><td>485</td></tr>\n",
              "\t<tr><td>0.4588477</td><td>486</td></tr>\n",
              "\t<tr><td>0.4579055</td><td>487</td></tr>\n",
              "\t<tr><td>0.4569672</td><td>488</td></tr>\n",
              "\t<tr><td>0.4580777</td><td>489</td></tr>\n",
              "\t<tr><td>0.4591837</td><td>490</td></tr>\n",
              "\t<tr><td>0.4602851</td><td>491</td></tr>\n",
              "\t<tr><td>0.4593496</td><td>492</td></tr>\n",
              "\t<tr><td>0.4604462</td><td>493</td></tr>\n",
              "\t<tr><td>0.4615385</td><td>494</td></tr>\n",
              "\t<tr><td>0.4626263</td><td>495</td></tr>\n",
              "\t<tr><td>0.4616935</td><td>496</td></tr>\n",
              "\t<tr><td>0.4627767</td><td>497</td></tr>\n",
              "\t<tr><td>0.4638554</td><td>498</td></tr>\n",
              "\t<tr><td>0.4649299</td><td>499</td></tr>\n",
              "\t<tr><td>0.4660000</td><td>500</td></tr>\n",
              "</tbody>\n",
              "</table>\n"
            ],
            "text/markdown": "\nA data.frame: 500 × 2\n\n| prop &lt;dbl&gt; | x &lt;int&gt; |\n|---|---|\n| 0.0000000 |  1 |\n| 0.0000000 |  2 |\n| 0.3333333 |  3 |\n| 0.2500000 |  4 |\n| 0.2000000 |  5 |\n| 0.1666667 |  6 |\n| 0.1428571 |  7 |\n| 0.2500000 |  8 |\n| 0.3333333 |  9 |\n| 0.4000000 | 10 |\n| 0.4545455 | 11 |\n| 0.5000000 | 12 |\n| 0.5384615 | 13 |\n| 0.5714286 | 14 |\n| 0.6000000 | 15 |\n| 0.5625000 | 16 |\n| 0.5882353 | 17 |\n| 0.6111111 | 18 |\n| 0.6315789 | 19 |\n| 0.6500000 | 20 |\n| 0.6190476 | 21 |\n| 0.6363636 | 22 |\n| 0.6521739 | 23 |\n| 0.6666667 | 24 |\n| 0.6800000 | 25 |\n| 0.6923077 | 26 |\n| 0.7037037 | 27 |\n| 0.7142857 | 28 |\n| 0.6896552 | 29 |\n| 0.6666667 | 30 |\n| ⋮ | ⋮ |\n| 0.4522293 | 471 |\n| 0.4533898 | 472 |\n| 0.4545455 | 473 |\n| 0.4556962 | 474 |\n| 0.4547368 | 475 |\n| 0.4558824 | 476 |\n| 0.4549266 | 477 |\n| 0.4560669 | 478 |\n| 0.4572025 | 479 |\n| 0.4583333 | 480 |\n| 0.4594595 | 481 |\n| 0.4605809 | 482 |\n| 0.4616977 | 483 |\n| 0.4607438 | 484 |\n| 0.4597938 | 485 |\n| 0.4588477 | 486 |\n| 0.4579055 | 487 |\n| 0.4569672 | 488 |\n| 0.4580777 | 489 |\n| 0.4591837 | 490 |\n| 0.4602851 | 491 |\n| 0.4593496 | 492 |\n| 0.4604462 | 493 |\n| 0.4615385 | 494 |\n| 0.4626263 | 495 |\n| 0.4616935 | 496 |\n| 0.4627767 | 497 |\n| 0.4638554 | 498 |\n| 0.4649299 | 499 |\n| 0.4660000 | 500 |\n\n",
            "text/latex": "A data.frame: 500 × 2\n\\begin{tabular}{ll}\n prop & x\\\\\n <dbl> & <int>\\\\\n\\hline\n\t 0.0000000 &  1\\\\\n\t 0.0000000 &  2\\\\\n\t 0.3333333 &  3\\\\\n\t 0.2500000 &  4\\\\\n\t 0.2000000 &  5\\\\\n\t 0.1666667 &  6\\\\\n\t 0.1428571 &  7\\\\\n\t 0.2500000 &  8\\\\\n\t 0.3333333 &  9\\\\\n\t 0.4000000 & 10\\\\\n\t 0.4545455 & 11\\\\\n\t 0.5000000 & 12\\\\\n\t 0.5384615 & 13\\\\\n\t 0.5714286 & 14\\\\\n\t 0.6000000 & 15\\\\\n\t 0.5625000 & 16\\\\\n\t 0.5882353 & 17\\\\\n\t 0.6111111 & 18\\\\\n\t 0.6315789 & 19\\\\\n\t 0.6500000 & 20\\\\\n\t 0.6190476 & 21\\\\\n\t 0.6363636 & 22\\\\\n\t 0.6521739 & 23\\\\\n\t 0.6666667 & 24\\\\\n\t 0.6800000 & 25\\\\\n\t 0.6923077 & 26\\\\\n\t 0.7037037 & 27\\\\\n\t 0.7142857 & 28\\\\\n\t 0.6896552 & 29\\\\\n\t 0.6666667 & 30\\\\\n\t ⋮ & ⋮\\\\\n\t 0.4522293 & 471\\\\\n\t 0.4533898 & 472\\\\\n\t 0.4545455 & 473\\\\\n\t 0.4556962 & 474\\\\\n\t 0.4547368 & 475\\\\\n\t 0.4558824 & 476\\\\\n\t 0.4549266 & 477\\\\\n\t 0.4560669 & 478\\\\\n\t 0.4572025 & 479\\\\\n\t 0.4583333 & 480\\\\\n\t 0.4594595 & 481\\\\\n\t 0.4605809 & 482\\\\\n\t 0.4616977 & 483\\\\\n\t 0.4607438 & 484\\\\\n\t 0.4597938 & 485\\\\\n\t 0.4588477 & 486\\\\\n\t 0.4579055 & 487\\\\\n\t 0.4569672 & 488\\\\\n\t 0.4580777 & 489\\\\\n\t 0.4591837 & 490\\\\\n\t 0.4602851 & 491\\\\\n\t 0.4593496 & 492\\\\\n\t 0.4604462 & 493\\\\\n\t 0.4615385 & 494\\\\\n\t 0.4626263 & 495\\\\\n\t 0.4616935 & 496\\\\\n\t 0.4627767 & 497\\\\\n\t 0.4638554 & 498\\\\\n\t 0.4649299 & 499\\\\\n\t 0.4660000 & 500\\\\\n\\end{tabular}\n",
            "text/plain": [
              "    prop      x  \n",
              "1   0.0000000  1 \n",
              "2   0.0000000  2 \n",
              "3   0.3333333  3 \n",
              "4   0.2500000  4 \n",
              "5   0.2000000  5 \n",
              "6   0.1666667  6 \n",
              "7   0.1428571  7 \n",
              "8   0.2500000  8 \n",
              "9   0.3333333  9 \n",
              "10  0.4000000 10 \n",
              "11  0.4545455 11 \n",
              "12  0.5000000 12 \n",
              "13  0.5384615 13 \n",
              "14  0.5714286 14 \n",
              "15  0.6000000 15 \n",
              "16  0.5625000 16 \n",
              "17  0.5882353 17 \n",
              "18  0.6111111 18 \n",
              "19  0.6315789 19 \n",
              "20  0.6500000 20 \n",
              "21  0.6190476 21 \n",
              "22  0.6363636 22 \n",
              "23  0.6521739 23 \n",
              "24  0.6666667 24 \n",
              "25  0.6800000 25 \n",
              "26  0.6923077 26 \n",
              "27  0.7037037 27 \n",
              "28  0.7142857 28 \n",
              "29  0.6896552 29 \n",
              "30  0.6666667 30 \n",
              "⋮   ⋮         ⋮  \n",
              "471 0.4522293 471\n",
              "472 0.4533898 472\n",
              "473 0.4545455 473\n",
              "474 0.4556962 474\n",
              "475 0.4547368 475\n",
              "476 0.4558824 476\n",
              "477 0.4549266 477\n",
              "478 0.4560669 478\n",
              "479 0.4572025 479\n",
              "480 0.4583333 480\n",
              "481 0.4594595 481\n",
              "482 0.4605809 482\n",
              "483 0.4616977 483\n",
              "484 0.4607438 484\n",
              "485 0.4597938 485\n",
              "486 0.4588477 486\n",
              "487 0.4579055 487\n",
              "488 0.4569672 488\n",
              "489 0.4580777 489\n",
              "490 0.4591837 490\n",
              "491 0.4602851 491\n",
              "492 0.4593496 492\n",
              "493 0.4604462 493\n",
              "494 0.4615385 494\n",
              "495 0.4626263 495\n",
              "496 0.4616935 496\n",
              "497 0.4627767 497\n",
              "498 0.4638554 498\n",
              "499 0.4649299 499\n",
              "500 0.4660000 500"
            ]
          },
          "metadata": {}
        }
      ]
    },
    {
      "cell_type": "code",
      "source": [
        "prop_df$x = c(1:n)"
      ],
      "metadata": {
        "id": "JadATts5m7tb"
      },
      "execution_count": null,
      "outputs": []
    },
    {
      "cell_type": "code",
      "source": [
        "prop_df$db1"
      ],
      "metadata": {
        "colab": {
          "base_uri": "https://localhost:8080/",
          "height": 35
        },
        "id": "FSH26fI1nFao",
        "outputId": "aaff5319-12bf-4068-9d5e-eed36f33fd8c"
      },
      "execution_count": null,
      "outputs": [
        {
          "output_type": "display_data",
          "data": {
            "text/plain": [
              "NULL"
            ]
          },
          "metadata": {}
        }
      ]
    },
    {
      "cell_type": "code",
      "source": [
        "ggplot(data=prop_df, aes(x = x, y = prop)) +\n",
        "  geom_line()"
      ],
      "metadata": {
        "colab": {
          "base_uri": "https://localhost:8080/",
          "height": 437
        },
        "id": "hD4dzkdEm83a",
        "outputId": "11ee5be5-a7a1-463f-b100-8860f93f2fff"
      },
      "execution_count": null,
      "outputs": [
        {
          "output_type": "display_data",
          "data": {
            "text/plain": [
              "plot without title"
            ],
            "image/png": "[encoded data removed]"
          },
          "metadata": {
            "image/png": {
              "width": 420,
              "height": 420
            }
          }
        }
      ]
    },
    {
      "cell_type": "code",
      "source": [
        "df <- data.frame(dose=c(\"D0.5\", \"D1\", \"D2\"),\n",
        "                len=c(4.2, 10, 29.5))"
      ],
      "metadata": {
        "id": "3tpakCo8nIxR"
      },
      "execution_count": null,
      "outputs": []
    },
    {
      "cell_type": "code",
      "source": [
        "df"
      ],
      "metadata": {
        "colab": {
          "base_uri": "https://localhost:8080/",
          "height": 209
        },
        "id": "NLbhIIvlnceV",
        "outputId": "2e33e815-eb66-49a6-8d10-5668a3f44f25"
      },
      "execution_count": null,
      "outputs": [
        {
          "output_type": "display_data",
          "data": {
            "text/html": [
              "<table class=\"dataframe\">\n",
              "<caption>A data.frame: 3 × 2</caption>\n",
              "<thead>\n",
              "\t<tr><th scope=col>dose</th><th scope=col>len</th></tr>\n",
              "\t<tr><th scope=col>&lt;chr&gt;</th><th scope=col>&lt;dbl&gt;</th></tr>\n",
              "</thead>\n",
              "<tbody>\n",
              "\t<tr><td>D0.5</td><td> 4.2</td></tr>\n",
              "\t<tr><td>D1  </td><td>10.0</td></tr>\n",
              "\t<tr><td>D2  </td><td>29.5</td></tr>\n",
              "</tbody>\n",
              "</table>\n"
            ],
            "text/markdown": "\nA data.frame: 3 × 2\n\n| dose &lt;chr&gt; | len &lt;dbl&gt; |\n|---|---|\n| D0.5 |  4.2 |\n| D1   | 10.0 |\n| D2   | 29.5 |\n\n",
            "text/latex": "A data.frame: 3 × 2\n\\begin{tabular}{ll}\n dose & len\\\\\n <chr> & <dbl>\\\\\n\\hline\n\t D0.5 &  4.2\\\\\n\t D1   & 10.0\\\\\n\t D2   & 29.5\\\\\n\\end{tabular}\n",
            "text/plain": [
              "  dose len \n",
              "1 D0.5  4.2\n",
              "2 D1   10.0\n",
              "3 D2   29.5"
            ]
          },
          "metadata": {}
        }
      ]
    },
    {
      "cell_type": "code",
      "source": [
        "plot(prop)"
      ],
      "metadata": {
        "colab": {
          "base_uri": "https://localhost:8080/",
          "height": 437
        },
        "id": "PdIdSDE8nc-V",
        "outputId": "2a80d12c-4385-4fc1-b94b-12cd51ff925f"
      },
      "execution_count": null,
      "outputs": [
        {
          "output_type": "display_data",
          "data": {
            "text/plain": [
              "plot without title"
            ],
            "image/png": "[encoded data removed]"
          },
          "metadata": {
            "image/png": {
              "width": 420,
              "height": 420
            }
          }
        }
      ]
    },
    {
      "cell_type": "code",
      "source": [],
      "metadata": {
        "id": "lL3qGg2OCJtm"
      },
      "execution_count": null,
      "outputs": []
    }
  ]
}